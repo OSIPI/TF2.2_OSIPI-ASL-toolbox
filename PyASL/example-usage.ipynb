{
 "cells": [
  {
   "cell_type": "code",
   "execution_count": 13,
   "id": "38bd3a50",
   "metadata": {},
   "outputs": [
    {
     "name": "stdout",
     "output_type": "stream",
     "text": [
      "User-input parameters:\n",
      "{\n",
      "    \"anat\": {\n",
      "        \"Manufacturer\": \"Siemens\",\n",
      "        \"ManufacturersModelName\": \"Prisma\",\n",
      "        \"MagneticFieldStrength\": 3.0,\n",
      "        \"RepetitionTime\": 4.38,\n",
      "        \"EchoTime\": 0.0204,\n",
      "        \"FlipAngle\": 90\n",
      "    },\n",
      "    \"M0\": {\n",
      "        \"Manufacturer\": \"Siemens\",\n",
      "        \"ManufacturersModelName\": \"Prisma\",\n",
      "        \"MagneticFieldStrength\": 3.0,\n",
      "        \"RepetitionTime\": 4.38,\n",
      "        \"EchoTime\": 0.0204,\n",
      "        \"FlipAngle\": 90\n",
      "    },\n",
      "    \"ASL\": {\n",
      "        \"Manufacturer\": \"Siemens\",\n",
      "        \"ManufacturersModelName\": \"Prisma\",\n",
      "        \"MagneticFieldStrength\": 3.0,\n",
      "        \"RepetitionTime\": 4.38,\n",
      "        \"EchoTime\": 0.0204,\n",
      "        \"FlipAngle\": 90,\n",
      "        \"ArterialSpinLabelingType\": \"PCASL\",\n",
      "        \"PostLabelingDelay\": 2,\n",
      "        \"LabelingDuration\": 1.8,\n",
      "        \"M0Type\": \"Separate\",\n",
      "        \"MRAcquisitionType\": \"3D\",\n",
      "        \"BackgroundSuppression\": true,\n",
      "        \"BackgroundSuppressionNumberPulses\": 2,\n",
      "        \"BackgroundSuppressionPulseTime\": [\n",
      "            1,\n",
      "            1\n",
      "        ],\n",
      "        \"LabelingEfficiency\": 0.85\n",
      "    }\n",
      "}\n",
      "Convert complete!\n",
      "Please see data_description.json under /Users/elo/Downloads/GSoC/test/human_single_delay for details.\n"
     ]
    }
   ],
   "source": [
    "import pyasl\n",
    "\n",
    "pyasl.load_data(\n",
    "    \"human_single_delay\",\n",
    "    \"params_single.json\",\n",
    "    convert=True,\n",
    "    is_singledelay=True,\n",
    "    is_labelcontrol=False\n",
    ")"
   ]
  },
  {
   "cell_type": "code",
   "execution_count": 4,
   "id": "b7ba7999",
   "metadata": {},
   "outputs": [
    {
     "name": "stdout",
     "output_type": "stream",
     "text": [
      "[INFO] Pipeline type: asltbx\n",
      "[INFO] Using registry: asltbx -> pyasl.pipelines.asltbx_pipeline.run_pipeline()\n",
      "[INFO] Dispatching to runner with input='human_single_delay', config='testasltbx.yaml'\n"
     ]
    },
    {
     "name": "stderr",
     "output_type": "stream",
     "text": [
      "stty: stdin isn't a terminal\n",
      "stty: stdin isn't a terminal\n",
      "stty: stdin isn't a terminal\n",
      "stty: stdin isn't a terminal\n"
     ]
    }
   ],
   "source": [
    "data_dir = \"human_single_delay\"\n",
    "config_path = \"testasltbx.yaml\"\n",
    "\n",
    "pyasl.run_pipeline(data_dir, config_path)"
   ]
  },
  {
   "cell_type": "code",
   "execution_count": 8,
   "id": "72ca9ffd",
   "metadata": {},
   "outputs": [
    {
     "name": "stdout",
     "output_type": "stream",
     "text": [
      "[INFO] Pipeline type: mricloud\n",
      "[INFO] Using registry: mricloud -> pyasl.pipelines.asl_mricloud_pipeline.run_mricloud_pipeline()\n",
      "[INFO] Dispatching to runner with input='human_single_delay', config='testmricloud.yaml'\n"
     ]
    },
    {
     "name": "stderr",
     "output_type": "stream",
     "text": [
      "stty: stdin isn't a terminal\n",
      "stty: stdin isn't a terminal\n",
      "stty: stdin isn't a terminal\n"
     ]
    }
   ],
   "source": [
    "data_dir = \"human_single_delay\"\n",
    "config_path = \"testmricloud.yaml\"\n",
    "\n",
    "pyasl.run_pipeline(data_dir, config_path)"
   ]
  },
  {
   "cell_type": "code",
   "execution_count": 10,
   "id": "52fe0240",
   "metadata": {},
   "outputs": [
    {
     "name": "stdout",
     "output_type": "stream",
     "text": [
      "[INFO] Pipeline type: oxford_asl\n",
      "[INFO] Using registry: oxford_asl -> pyasl.pipelines.oxford_asl_pipeline.run_oxford_asl_pipeline()\n",
      "[INFO] Dispatching to runner with input='human_single_delay', config='testoxford.yaml'\n",
      "[oxford_asl] oxford_asl --iaf ct --ibf rpt --casl --tis 3.8 --bolus 1.8 --debug -s /Users/elo/Downloads/GSoC/test/human_single_delay/rawdata/sub01/ses01/anat/MPRAGE.nii -i /Users/elo/Downloads/GSoC/test/human_single_delay/rawdata/sub01/ses01/perf/pCASL3d_PLD2000.nii -o /Users/elo/Downloads/GSoC/test/human_single_delay/derivatives/sub01/ses01\n"
     ]
    },
    {
     "name": "stderr",
     "output_type": "stream",
     "text": [
      "rm: /Users/elo/Downloads/GSoC/test/human_single_delay/derivatives/sub01/ses01/logfile: No such file or directory\n"
     ]
    },
    {
     "name": "stdout",
     "output_type": "stream",
     "text": [
      "oxford_asl --iaf ct --ibf rpt --casl --tis 3.8 --bolus 1.8 --debug -s /Users/elo/Downloads/GSoC/test/human_single_delay/rawdata/sub01/ses01/anat/MPRAGE.nii -i /Users/elo/Downloads/GSoC/test/human_single_delay/rawdata/sub01/ses01/perf/pCASL3d_PLD2000.nii -o /Users/elo/Downloads/GSoC/test/human_single_delay/derivatives/sub01/ses01\n",
      "OXFORD_ASL - running\n",
      "Version: v4.0.29-5-g09a5cba-dirty Thu Jul 13 14:20:21 2023\n",
      "Input file: /Users/elo/Downloads/GSoC/test/human_single_delay/rawdata/sub01/ses01/perf/pCASL3d_PLD2000.nii\n",
      "Structural image: /Users/elo/Downloads/GSoC/test/human_single_delay/rawdata/sub01/ses01/anat/MPRAGE.nii\n",
      "Saving results in natve (ASL aquisition) space to /Users/elo/Downloads/GSoC/test/human_single_delay/derivatives/sub01/ses01/native_space\n",
      "Saving results in structural space to /Users/elo/Downloads/GSoC/test/human_single_delay/derivatives/sub01/ses01/struct_space\n",
      "Pre-processing\n",
      "Structural image is: /Users/elo/Downloads/GSoC/test/human_single_delay/rawdata/sub01/ses01/anat/MPRAGE.nii\n",
      "BET on structural image\n",
      "Bolus duration: 1.8\n",
      "Number of TIs in list: 1\n",
      "TIs list: --ti1=3.8\n",
      "Input ASL format is: ct\n",
      "Input block format is: rpt\n",
      "Number of voxels is:147456\n",
      "Number of repeats in data is:8\n",
      "Outputting ASL data mean at each TI\n",
      "Done.\n",
      "Number of inversion times: 1\n",
      "Number of timepoints in data: 8\n",
      "Number of repeats in data: 8\n",
      "Operating in Single TI mode\n",
      "3.8 3.8 3.8 3.8 3.8 3.8 3.8 3.8\n",
      "3.8\n",
      "Segmenting the structural image\n",
      "Bias field extracted from /Users/elo/tmp_oxasl/fsl_c8ffc1l__ox_asl/seg sucessfully\n",
      "Defaulting brain extracted mean ASL image as initial registration reference\n",
      "Using brain extracted mean ASL image as initial registration reference\n",
      "Creating WMseg for BBR registration\n",
      "Performing registration\n",
      "Using /Users/elo/tmp_oxasl/fsl_c8ffc1l__ox_asl/meanasl_brain as base for inital registration\n",
      "Initial registration is FLIRT only\n",
      "Performing registration\n",
      "ASL_REG\n",
      "Input file is: /Users/elo/tmp_oxasl/fsl_c8ffc1l__ox_asl/meanasl_brain\n",
      "Registration MAIN stage (FLIRT)\n",
      "ASL_REG - Done.\n",
      "Could not find a supported file with prefix \"/Users/elo/tmp_oxasl/fsl_c8ffc1l__ox_asl/tmp_asl_reg/lowtohigh\"\n",
      "Creating mask\n",
      "Generating dilated mask for initial BASIL runs\n",
      "T1: 1.3\n",
      "T1b: 1.65\n",
      "Setting up BASIL\n",
      "cASL model\n",
      "Fixed bolus duration\n",
      "Variable arterial arrival time\n",
      "Setting prior/initial (tissue/gray matter) bolus arrival time to 1.3\n",
      "Instructing BASIL to use automated spatial smoothing\n",
      "BASIL options (/Users/elo/tmp_oxasl/fsl_c8ffc1l__ox_asl/basil_options.txt):\n",
      "----\n",
      "#FABBER options created by Oxford_asl --t1=1.3 --t1b=1.65 --casl --tau=1.8 --bat=1.3 --save-model-fit\n",
      "----\n",
      "Calling BASIL on data - conventional perusion image\n",
      "Initial run of BASIL on data where we have avareged all repeats at each TI\n",
      "Run time basil options:\n",
      "--spatial\n",
      "---\n",
      "Creating output directory: /Users/elo/tmp_oxasl/fsl_c8ffc1l__ox_asl/init/basil\n",
      "STEP 1: VB - Tissue\n",
      "----------------------\n",
      "Welcome to FABBER 4.0.11-12-g99c29e6-dirty\n",
      "----------------------\n",
      "Last commit: Wed May 11 08:38:41 2022\n",
      "Logfile started: /Users/elo/tmp_oxasl/fsl_c8ffc1l__ox_asl/init/basil/step1/logfile\n",
      "\b 0123456789101112131415161718192021222324252627282930313233343536373839404142434445464748495051525354555657585960616263646566676869707172737475767778798081828384858687888990919293949596979899100%\n",
      "\n",
      "Final logfile: /Users/elo/tmp_oxasl/fsl_c8ffc1l__ox_asl/init/basil/step1/logfile\n",
      "STEP 2: Spatial VB Tissue - init with STEP 1\n",
      "----------------------\n",
      "Welcome to FABBER 4.0.11-12-g99c29e6-dirty\n",
      "----------------------\n",
      "Last commit: Wed May 11 08:38:41 2022\n",
      "Logfile started: /Users/elo/tmp_oxasl/fsl_c8ffc1l__ox_asl/init/basil/step2/logfile\n",
      "\b 05101520253035404550556065707580859095100%\n",
      "\n",
      "Final logfile: /Users/elo/tmp_oxasl/fsl_c8ffc1l__ox_asl/init/basil/step2/logfile\n",
      "End.\n",
      "Using BASIL step /Users/elo/tmp_oxasl/fsl_c8ffc1l__ox_asl/init/basil/step2\n",
      "Fabber variance calculator\n",
      "Working in /Users/elo/tmp_oxasl/fsl_c8ffc1l__ox_asl/init/basil/step2\n",
      "Calculating variance for: ftiss\n",
      "FABBER: MVNtool\n",
      "FabberRunDataNewimage::Loading mask data from '/Users/elo/tmp_oxasl/fsl_c8ffc1l__ox_asl/mask_dil'\n",
      "FabberRunDataNewimage::Dimensions: x=64, y=64, z=36, vols=1\n",
      "FabberRunDataNewimage::Voxel size: x=3.4375mm, y=3.4375mm, z=4mm, TR=1 sec\n",
      "FabberRunDataNewimage::Intents: 0, 0, 0, 0\n",
      "FabberRunDataNewimage::Setting coordinates from extent\n",
      "FabberRunDataNewimage::Loading data from '/Users/elo/tmp_oxasl/fsl_c8ffc1l__ox_asl/init/basil/step2/finalMVN'\n",
      "FabberRunDataNewimage::Dimensions: x=64, y=64, z=36, vols=10\n",
      "FabberRunDataNewimage::Voxel size: x=3.4375mm, y=3.4375mm, z=4mm, TR=1 sec\n",
      "FabberRunDataNewimage::Intents: 1005, 0, 0, 0\n",
      "FabberRunDataNewimage::Applying mask to data...\n",
      "FabberRunDataNewimage::GetVoxelData: /Users/elo/tmp_oxasl/fsl_c8ffc1l__ox_asl/init/basil/step2/finalMVN mean value=1.04719e+06\n",
      "FabberRunDataNewimage::Saving to nifti: /Users/elo/tmp_oxasl/fsl_c8ffc1l__ox_asl/init/basil/step2/var_ftiss\n",
      "Calculating variance for: delttiss\n",
      "FABBER: MVNtool\n",
      "FabberRunDataNewimage::Loading mask data from '/Users/elo/tmp_oxasl/fsl_c8ffc1l__ox_asl/mask_dil'\n",
      "FabberRunDataNewimage::Dimensions: x=64, y=64, z=36, vols=1\n",
      "FabberRunDataNewimage::Voxel size: x=3.4375mm, y=3.4375mm, z=4mm, TR=1 sec\n",
      "FabberRunDataNewimage::Intents: 0, 0, 0, 0\n",
      "FabberRunDataNewimage::Setting coordinates from extent\n",
      "FabberRunDataNewimage::Loading data from '/Users/elo/tmp_oxasl/fsl_c8ffc1l__ox_asl/init/basil/step2/finalMVN'\n",
      "FabberRunDataNewimage::Dimensions: x=64, y=64, z=36, vols=10\n",
      "FabberRunDataNewimage::Voxel size: x=3.4375mm, y=3.4375mm, z=4mm, TR=1 sec\n",
      "FabberRunDataNewimage::Intents: 1005, 0, 0, 0\n",
      "FabberRunDataNewimage::Applying mask to data...\n",
      "FabberRunDataNewimage::GetVoxelData: /Users/elo/tmp_oxasl/fsl_c8ffc1l__ox_asl/init/basil/step2/finalMVN mean value=1.04719e+06\n",
      "FabberRunDataNewimage::Saving to nifti: /Users/elo/tmp_oxasl/fsl_c8ffc1l__ox_asl/init/basil/step2/var_delttiss\n",
      "Done.\n",
      "Main run of BASIL on ASL data\n",
      "Run time basil options:\n",
      "--spatial\n",
      "---\n",
      "Initial MVN for BASIL is: /Users/elo/tmp_oxasl/fsl_c8ffc1l__ox_asl/init/finalMVN\n",
      "Creating output directory: /Users/elo/tmp_oxasl/fsl_c8ffc1l__ox_asl/basil\n",
      "STEP 1: VB - Tissue - init with STEP 0\n",
      "----------------------\n",
      "Welcome to FABBER 4.0.11-12-g99c29e6-dirty\n",
      "----------------------\n",
      "Last commit: Wed May 11 08:38:41 2022\n",
      "Logfile started: /Users/elo/tmp_oxasl/fsl_c8ffc1l__ox_asl/basil/step1/logfile\n",
      "\b 0123456789101112131415161718192021222324252627282930313233343536373839404142434445464748495051525354555657585960616263646566676869707172737475767778798081828384858687888990919293949596979899100%\n",
      "\n",
      "Final logfile: /Users/elo/tmp_oxasl/fsl_c8ffc1l__ox_asl/basil/step1/logfile\n",
      "STEP 2: Spatial VB Tissue - init with STEP 1\n",
      "----------------------\n",
      "Welcome to FABBER 4.0.11-12-g99c29e6-dirty\n",
      "----------------------\n",
      "Last commit: Wed May 11 08:38:41 2022\n",
      "Logfile started: /Users/elo/tmp_oxasl/fsl_c8ffc1l__ox_asl/basil/step2/logfile\n",
      "\b 05101520253035404550556065707580859095100%\n",
      "\n",
      "Final logfile: /Users/elo/tmp_oxasl/fsl_c8ffc1l__ox_asl/basil/step2/logfile\n",
      "End.\n",
      "Using BASIL step /Users/elo/tmp_oxasl/fsl_c8ffc1l__ox_asl/basil/step2\n",
      "Fabber variance calculator\n",
      "Working in /Users/elo/tmp_oxasl/fsl_c8ffc1l__ox_asl/basil/step2\n",
      "Calculating variance for: ftiss\n",
      "FABBER: MVNtool\n",
      "FabberRunDataNewimage::Loading mask data from '/Users/elo/tmp_oxasl/fsl_c8ffc1l__ox_asl/mask_dil'\n",
      "FabberRunDataNewimage::Dimensions: x=64, y=64, z=36, vols=1\n",
      "FabberRunDataNewimage::Voxel size: x=3.4375mm, y=3.4375mm, z=4mm, TR=1 sec\n",
      "FabberRunDataNewimage::Intents: 0, 0, 0, 0\n",
      "FabberRunDataNewimage::Setting coordinates from extent\n",
      "FabberRunDataNewimage::Loading data from '/Users/elo/tmp_oxasl/fsl_c8ffc1l__ox_asl/basil/step2/finalMVN'\n",
      "FabberRunDataNewimage::Dimensions: x=64, y=64, z=36, vols=10\n",
      "FabberRunDataNewimage::Voxel size: x=3.4375mm, y=3.4375mm, z=4mm, TR=1 sec\n",
      "FabberRunDataNewimage::Intents: 1005, 0, 0, 0\n",
      "FabberRunDataNewimage::Applying mask to data...\n",
      "FabberRunDataNewimage::GetVoxelData: /Users/elo/tmp_oxasl/fsl_c8ffc1l__ox_asl/basil/step2/finalMVN mean value=1.80507e+10\n",
      "FabberRunDataNewimage::Saving to nifti: /Users/elo/tmp_oxasl/fsl_c8ffc1l__ox_asl/basil/step2/var_ftiss\n",
      "Calculating variance for: delttiss\n",
      "FABBER: MVNtool\n",
      "FabberRunDataNewimage::Loading mask data from '/Users/elo/tmp_oxasl/fsl_c8ffc1l__ox_asl/mask_dil'\n",
      "FabberRunDataNewimage::Dimensions: x=64, y=64, z=36, vols=1\n",
      "FabberRunDataNewimage::Voxel size: x=3.4375mm, y=3.4375mm, z=4mm, TR=1 sec\n",
      "FabberRunDataNewimage::Intents: 0, 0, 0, 0\n",
      "FabberRunDataNewimage::Setting coordinates from extent\n",
      "FabberRunDataNewimage::Loading data from '/Users/elo/tmp_oxasl/fsl_c8ffc1l__ox_asl/basil/step2/finalMVN'\n",
      "FabberRunDataNewimage::Dimensions: x=64, y=64, z=36, vols=10\n",
      "FabberRunDataNewimage::Voxel size: x=3.4375mm, y=3.4375mm, z=4mm, TR=1 sec\n",
      "FabberRunDataNewimage::Intents: 1005, 0, 0, 0\n",
      "FabberRunDataNewimage::Applying mask to data...\n",
      "FabberRunDataNewimage::GetVoxelData: /Users/elo/tmp_oxasl/fsl_c8ffc1l__ox_asl/basil/step2/finalMVN mean value=1.80507e+10\n",
      "FabberRunDataNewimage::Saving to nifti: /Users/elo/tmp_oxasl/fsl_c8ffc1l__ox_asl/basil/step2/var_delttiss\n",
      "Done.\n",
      "Performing final registration\n",
      "Performing registration\n",
      "ASL_REG\n",
      "Input file is: /Users/elo/tmp_oxasl/fsl_c8ffc1l__ox_asl/ftiss\n",
      "Registration FINAL stage (BBR)\n"
     ]
    },
    {
     "name": "stderr",
     "output_type": "stream",
     "text": [
      "mkdir: /Users/elo/tmp_oxasl/fsl_c8ffc1l__ox_asl/tmp_asl_reg: File exists\n"
     ]
    },
    {
     "name": "stdout",
     "output_type": "stream",
     "text": [
      "Running BBR\n",
      "0.997730 0.748518 0.159130 0.643738 0.000000 0.187683 0.880245 -0.435825 0.000000 -0.636000 0.447041 0.629014 0.000000 34.028094 -95.069704 -5.763891 1.000000 \n",
      "BBR end\n",
      "Saving FINAL output\n",
      "'/Users/elo/tmp_oxasl/fsl_c8ffc1l__ox_asl/tissseg.nii.gz' and '/Users/elo/tmp_oxasl/fsl_c8ffc1l__ox_asl/tissseg.nii.gz' are the same file\n",
      "ASL_REG - Done.\n",
      "Generating analysis mask from final structural registration\n",
      "WARNING: Final analysis mask contains 15341 voxels that were not in original model fitting mask\n",
      "WARNING: No structural->standard space transformation - cannot generate cortical-only GM/WM masks\n",
      "T1t (for calibration): 1.3\n",
      "Output: ftiss perfusion / /\n",
      "Mean perfusion in gm is 2.444502\n",
      "Output: delttiss arrival / /\n",
      "Mean arrival in gm is 0.986943\n",
      "Mean perfusion in wm is 1.452595\n",
      "Mean arrival in wm is 0.617180\n",
      "Output: var_ftiss perfusion_var / /\n",
      "Output: var_delttiss arrival_var / /\n",
      "Could not find a supported file with prefix \"/Users/elo/tmp_oxasl/fsl_c8ffc1l__ox_asl/gmmask_pure_cort\"\n",
      "Could not find a supported file with prefix \"/Users/elo/tmp_oxasl/fsl_c8ffc1l__ox_asl/wmmask_pure_cereb\"\n",
      "Output is /Users/elo/Downloads/GSoC/test/human_single_delay/derivatives/sub01/ses01/\n",
      "OXFORD_ASL - done.\n"
     ]
    }
   ],
   "source": [
    "data_dir = \"human_single_delay\"\n",
    "config_path = \"testoxford.yaml\"\n",
    "\n",
    "pyasl.run_pipeline(data_dir, config_path)"
   ]
  },
  {
   "cell_type": "code",
   "execution_count": 2,
   "id": "c41c5754",
   "metadata": {},
   "outputs": [
    {
     "name": "stdout",
     "output_type": "stream",
     "text": [
      "[INFO] Pipeline type: dlasl\n",
      "[INFO] Using registry: dlasl -> pyasl.pipelines.dlasl_pipeline.run_dlasl_pipeline()\n",
      "[INFO] Dispatching to runner with input='human_single_delay', config='testdlasl.yaml'\n",
      "[DLASLBuildMask] -> /Users/elo/Downloads/GSoC/test/human_single_delay/derivatives/sub01/ses01/perf/dlasl_mask.nii.gz\n"
     ]
    },
    {
     "name": "stderr",
     "output_type": "stream",
     "text": [
      "Weights not found: /Users/elo/Downloads/GSoC/test/venvtest/lib/python3.11/site-packages/pyasl/models/model_099.hdf5\n"
     ]
    },
    {
     "ename": "FileNotFoundError",
     "evalue": "Model weights not found: /Users/elo/Downloads/GSoC/test/venvtest/lib/python3.11/site-packages/pyasl/models/model_099.hdf5",
     "output_type": "error",
     "traceback": [
      "\u001b[31m---------------------------------------------------------------------------\u001b[39m",
      "\u001b[31mFileNotFoundError\u001b[39m                         Traceback (most recent call last)",
      "\u001b[36mCell\u001b[39m\u001b[36m \u001b[39m\u001b[32mIn[2]\u001b[39m\u001b[32m, line 6\u001b[39m\n\u001b[32m      3\u001b[39m data_dir = \u001b[33m\"\u001b[39m\u001b[33mhuman_single_delay\u001b[39m\u001b[33m\"\u001b[39m\n\u001b[32m      4\u001b[39m config_path = \u001b[33m\"\u001b[39m\u001b[33mtestdlasl.yaml\u001b[39m\u001b[33m\"\u001b[39m\n\u001b[32m----> \u001b[39m\u001b[32m6\u001b[39m \u001b[43mpyasl\u001b[49m\u001b[43m.\u001b[49m\u001b[43mrun_pipeline\u001b[49m\u001b[43m(\u001b[49m\u001b[43mdata_dir\u001b[49m\u001b[43m,\u001b[49m\u001b[43m \u001b[49m\u001b[43mconfig_path\u001b[49m\u001b[43m)\u001b[49m\n",
      "\u001b[36mFile \u001b[39m\u001b[32m~/Downloads/GSoC/test/venvtest/lib/python3.11/site-packages/pyasl/pipelines/run_pipeline.py:161\u001b[39m, in \u001b[36mrun_pipeline\u001b[39m\u001b[34m(input_dir, config_path)\u001b[39m\n\u001b[32m    159\u001b[39m \u001b[38;5;66;03m# Forward arguments as-is\u001b[39;00m\n\u001b[32m    160\u001b[39m logger.info(\u001b[33mf\u001b[39m\u001b[33m\"\u001b[39m\u001b[33mDispatching to runner with input=\u001b[39m\u001b[33m'\u001b[39m\u001b[38;5;132;01m{\u001b[39;00minput_p\u001b[38;5;132;01m}\u001b[39;00m\u001b[33m'\u001b[39m\u001b[33m, config=\u001b[39m\u001b[33m'\u001b[39m\u001b[38;5;132;01m{\u001b[39;00mcfg_p\u001b[38;5;132;01m}\u001b[39;00m\u001b[33m'\u001b[39m\u001b[33m\"\u001b[39m)\n\u001b[32m--> \u001b[39m\u001b[32m161\u001b[39m \u001b[38;5;28;01mreturn\u001b[39;00m \u001b[43mrunner\u001b[49m\u001b[43m(\u001b[49m\u001b[38;5;28;43mstr\u001b[39;49m\u001b[43m(\u001b[49m\u001b[43minput_p\u001b[49m\u001b[43m)\u001b[49m\u001b[43m,\u001b[49m\u001b[43m \u001b[49m\u001b[38;5;28;43mstr\u001b[39;49m\u001b[43m(\u001b[49m\u001b[43mcfg_p\u001b[49m\u001b[43m)\u001b[49m\u001b[43m)\u001b[49m\n",
      "\u001b[36mFile \u001b[39m\u001b[32m~/Downloads/GSoC/test/venvtest/lib/python3.11/site-packages/pyasl/pipelines/dlasl_pipeline.py:85\u001b[39m, in \u001b[36mrun_dlasl_pipeline\u001b[39m\u001b[34m(root, config_path)\u001b[39m\n\u001b[32m     82\u001b[39m         logger.error(\u001b[33m\"\u001b[39m\u001b[33mUnknown step: \u001b[39m\u001b[38;5;132;01m%s\u001b[39;00m\u001b[33m\"\u001b[39m, name)\n\u001b[32m     83\u001b[39m         \u001b[38;5;28;01mraise\u001b[39;00m \u001b[38;5;167;01mValueError\u001b[39;00m(\u001b[33mf\u001b[39m\u001b[33m\"\u001b[39m\u001b[33mUnknown step: \u001b[39m\u001b[38;5;132;01m{\u001b[39;00mname\u001b[38;5;132;01m}\u001b[39;00m\u001b[33m\"\u001b[39m)\n\u001b[32m---> \u001b[39m\u001b[32m85\u001b[39m     \u001b[43mmod\u001b[49m\u001b[43m.\u001b[49m\u001b[43mrun\u001b[49m\u001b[43m(\u001b[49m\u001b[43mdata_descrip\u001b[49m\u001b[43m,\u001b[49m\u001b[43m \u001b[49m\u001b[43mparams\u001b[49m\u001b[43m)\u001b[49m\n\u001b[32m     87\u001b[39m outdir = os.path.join(root, \u001b[33m\"\u001b[39m\u001b[33mderivatives\u001b[39m\u001b[33m\"\u001b[39m)\n\u001b[32m     88\u001b[39m logger.info(\u001b[33m\"\u001b[39m\u001b[33mDeepASL pipeline completed.\u001b[39m\u001b[33m\"\u001b[39m)\n",
      "\u001b[36mFile \u001b[39m\u001b[32m~/Downloads/GSoC/test/venvtest/lib/python3.11/site-packages/pyasl/modules/dlasl_denoise_cbf.py:175\u001b[39m, in \u001b[36mDLASLDenoiseCBF.run\u001b[39m\u001b[34m(self, data_descrip, params)\u001b[39m\n\u001b[32m    170\u001b[39m \u001b[38;5;66;03m# model\u001b[39;00m\n\u001b[32m    171\u001b[39m weights_dir = params.get(\n\u001b[32m    172\u001b[39m     \u001b[33m\"\u001b[39m\u001b[33mweights_dir\u001b[39m\u001b[33m\"\u001b[39m,\n\u001b[32m    173\u001b[39m     os.path.join(os.path.dirname(os.path.dirname(\u001b[34m__file__\u001b[39m)), \u001b[33m\"\u001b[39m\u001b[33mmodels\u001b[39m\u001b[33m\"\u001b[39m),\n\u001b[32m    174\u001b[39m )\n\u001b[32m--> \u001b[39m\u001b[32m175\u001b[39m model = \u001b[38;5;28;43mself\u001b[39;49m\u001b[43m.\u001b[49m\u001b[43m_load_model\u001b[49m\u001b[43m(\u001b[49m\u001b[38;5;28;43mint\u001b[39;49m\u001b[43m(\u001b[49m\u001b[43mparams\u001b[49m\u001b[43m.\u001b[49m\u001b[43mget\u001b[49m\u001b[43m(\u001b[49m\u001b[33;43m\"\u001b[39;49m\u001b[33;43mmodel_selection\u001b[39;49m\u001b[33;43m\"\u001b[39;49m\u001b[43m,\u001b[49m\u001b[43m \u001b[49m\u001b[32;43m1\u001b[39;49m\u001b[43m)\u001b[49m\u001b[43m)\u001b[49m\u001b[43m,\u001b[49m\u001b[43m \u001b[49m\u001b[43mweights_dir\u001b[49m\u001b[43m)\u001b[49m\n\u001b[32m    177\u001b[39m \u001b[38;5;66;03m# denoise all candidates\u001b[39;00m\n\u001b[32m    178\u001b[39m last_out = \u001b[38;5;28;01mNone\u001b[39;00m\n",
      "\u001b[36mFile \u001b[39m\u001b[32m~/Downloads/GSoC/test/venvtest/lib/python3.11/site-packages/pyasl/modules/dlasl_denoise_cbf.py:97\u001b[39m, in \u001b[36mDLASLDenoiseCBF._load_model\u001b[39m\u001b[34m(self, model_selection, weights_dir)\u001b[39m\n\u001b[32m     95\u001b[39m \u001b[38;5;28;01mif\u001b[39;00m \u001b[38;5;129;01mnot\u001b[39;00m os.path.isfile(weight_path):\n\u001b[32m     96\u001b[39m     logger.error(\u001b[33m\"\u001b[39m\u001b[33mWeights not found: \u001b[39m\u001b[38;5;132;01m%s\u001b[39;00m\u001b[33m\"\u001b[39m, weight_path)\n\u001b[32m---> \u001b[39m\u001b[32m97\u001b[39m     \u001b[38;5;28;01mraise\u001b[39;00m \u001b[38;5;167;01mFileNotFoundError\u001b[39;00m(\u001b[33mf\u001b[39m\u001b[33m\"\u001b[39m\u001b[33mModel weights not found: \u001b[39m\u001b[38;5;132;01m{\u001b[39;00mweight_path\u001b[38;5;132;01m}\u001b[39;00m\u001b[33m\"\u001b[39m)\n\u001b[32m     98\u001b[39m model.load_weights(weight_path)\n\u001b[32m     99\u001b[39m logger.info(\u001b[33m\"\u001b[39m\u001b[33mLoaded weights: \u001b[39m\u001b[38;5;132;01m%s\u001b[39;00m\u001b[33m\"\u001b[39m, weight_path)\n",
      "\u001b[31mFileNotFoundError\u001b[39m: Model weights not found: /Users/elo/Downloads/GSoC/test/venvtest/lib/python3.11/site-packages/pyasl/models/model_099.hdf5"
     ]
    }
   ],
   "source": [
    "import pyasl\n",
    "\n",
    "data_dir = \"human_single_delay\"\n",
    "config_path = \"testdlasl.yaml\"\n",
    "\n",
    "pyasl.run_pipeline(data_dir, config_path)"
   ]
  },
  {
   "cell_type": "code",
   "execution_count": 3,
   "id": "882dc8d8",
   "metadata": {},
   "outputs": [
    {
     "name": "stdout",
     "output_type": "stream",
     "text": [
      "[INFO] Pipeline type: mti\n",
      "[INFO] Using registry: mti -> pyasl.pipelines.preclinical_mti_pipeline.run_preclinical_mti_pipeline()\n",
      "[INFO] Dispatching to runner with input='preclinical_MTI_PASL', config='testmti.yaml'\n"
     ]
    }
   ],
   "source": [
    "import pyasl\n",
    "\n",
    "data_dir = \"preclinical_MTI_PASL\"\n",
    "config_path = \"testmti.yaml\"\n",
    "\n",
    "pyasl.run_pipeline(data_dir, config_path)"
   ]
  },
  {
   "cell_type": "code",
   "execution_count": 4,
   "id": "438334ce",
   "metadata": {},
   "outputs": [
    {
     "name": "stdout",
     "output_type": "stream",
     "text": [
      "[INFO] Pipeline type: pcasl\n",
      "[INFO] Using registry: pcasl -> pyasl.pipelines.preclinical_pcasl_pipeline.run_preclinical_pcasl_pipeline()\n",
      "[INFO] Dispatching to runner with input='preclinical_pCASL', config='testpcasl.yaml'\n"
     ]
    }
   ],
   "source": [
    "import pyasl\n",
    "\n",
    "data_dir = \"preclinical_pCASL\"\n",
    "config_path = \"testpcasl.yaml\"\n",
    "\n",
    "pyasl.run_pipeline(data_dir, config_path)"
   ]
  },
  {
   "cell_type": "code",
   "execution_count": 5,
   "id": "2e7db6bf",
   "metadata": {},
   "outputs": [
    {
     "name": "stdout",
     "output_type": "stream",
     "text": [
      "[INFO] Pipeline type: custom\n",
      "[INFO] Using registry: custom -> pyasl.pipelines.custom_pipeline.run_custom_pipeline()\n",
      "[INFO] Dispatching to runner with input='human_single_delay', config='mixed.yaml'\n"
     ]
    },
    {
     "name": "stderr",
     "output_type": "stream",
     "text": [
      "stty: stdin isn't a terminal\n",
      "stty: stdin isn't a terminal\n"
     ]
    },
    {
     "data": {
      "text/plain": [
       "{'root': '/Users/elo/Downloads/GSoC/test/human_single_delay',\n",
       " 'config_dir': '/Users/elo/Downloads/GSoC/test'}"
      ]
     },
     "execution_count": 5,
     "metadata": {},
     "output_type": "execute_result"
    }
   ],
   "source": [
    "data_dir = \"human_single_delay\"\n",
    "config_path = \"mixed.yaml\"\n",
    "\n",
    "pyasl.run_pipeline(data_dir, config_path)"
   ]
  }
 ],
 "metadata": {
  "kernelspec": {
   "display_name": "venvtest",
   "language": "python",
   "name": "python3"
  },
  "language_info": {
   "codemirror_mode": {
    "name": "ipython",
    "version": 3
   },
   "file_extension": ".py",
   "mimetype": "text/x-python",
   "name": "python",
   "nbconvert_exporter": "python",
   "pygments_lexer": "ipython3",
   "version": "3.11.10"
  }
 },
 "nbformat": 4,
 "nbformat_minor": 5
}
